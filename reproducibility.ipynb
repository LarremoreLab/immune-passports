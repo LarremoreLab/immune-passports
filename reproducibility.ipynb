{
 "cells": [
  {
   "cell_type": "markdown",
   "metadata": {},
   "source": [
    "# Requirements\n",
    "- numpy\n",
    "- matplotlib\n",
    "- palettable\n",
    "- util.py (included in repo)"
   ]
  },
  {
   "cell_type": "code",
   "execution_count": 1,
   "metadata": {},
   "outputs": [],
   "source": [
    "import numpy as np\n",
    "import matplotlib.pyplot as plt\n",
    "from util import *\n",
    "\n",
    "from palettable.cartocolors.qualitative import Prism_7"
   ]
  },
  {
   "cell_type": "markdown",
   "metadata": {},
   "source": [
    "# Helper functions"
   ]
  },
  {
   "cell_type": "code",
   "execution_count": 6,
   "metadata": {},
   "outputs": [],
   "source": [
    "# Compute minimum feasible sensitivity\n",
    "def min_sens(prev, spec, R0=3):\n",
    "    return (R0-1)*(1-prev)*(1-spec)/prev"
   ]
  },
  {
   "cell_type": "code",
   "execution_count": 7,
   "metadata": {},
   "outputs": [],
   "source": [
    "# Compute minimum specificity if sensitivity is perfect\n",
    "def sp_when_perfect_sens(prev,R0):\n",
    "    return 1-(prev/((R0-1)*(1-prev)))"
   ]
  },
  {
   "cell_type": "code",
   "execution_count": 8,
   "metadata": {},
   "outputs": [],
   "source": [
    "# Compute positive predictive value\n",
    "# i.e. the fraction of true positives among the test positives\n",
    "def pos_enrichment(prev,sens,spec):\n",
    "    a = sens*prev\n",
    "    b = (1-spec)*(1-prev)\n",
    "    return a/(a+b)"
   ]
  },
  {
   "cell_type": "code",
   "execution_count": 9,
   "metadata": {},
   "outputs": [],
   "source": [
    "# Compute minimum feasible specificity\n",
    "def min_spec(sens,prev,R0):\n",
    "    return 1-(prev/((R0-1)*(1-prev)))*sens"
   ]
  },
  {
   "cell_type": "code",
   "execution_count": 10,
   "metadata": {},
   "outputs": [],
   "source": [
    "# Compute minimum feasible prevalence\n",
    "def min_prev(sens,spec,R0):\n",
    "    herd = 1-1/R0\n",
    "    num = herd*(1-spec)\n",
    "    denom = sens - herd*(sens+spec-1)\n",
    "    return num/denom"
   ]
  },
  {
   "cell_type": "markdown",
   "metadata": {},
   "source": [
    "# Calculations in manuscript"
   ]
  },
  {
   "attachments": {},
   "cell_type": "markdown",
   "metadata": {},
   "source": [
    "For example, applied to a population with 4% seroprevalence, even a test with 98.5% specificity and perfect sensitivity would produce a passport-holding population with only 73.5% true seropositive individuals."
   ]
  },
  {
   "cell_type": "code",
   "execution_count": 11,
   "metadata": {},
   "outputs": [
    {
     "data": {
      "text/plain": [
       "0.7352941176470587"
      ]
     },
     "execution_count": 11,
     "metadata": {},
     "output_type": "execute_result"
    }
   ],
   "source": [
    "pos_enrichment(prev=0.04, spec=0.985, sens=1)"
   ]
  },
  {
   "attachments": {},
   "cell_type": "markdown",
   "metadata": {},
   "source": [
    "If the test sensitivity was 90%, only 71.4% of passport holders would be seropositive."
   ]
  },
  {
   "cell_type": "code",
   "execution_count": 12,
   "metadata": {},
   "outputs": [
    {
     "data": {
      "text/plain": [
       "0.7142857142857142"
      ]
     },
     "execution_count": 12,
     "metadata": {},
     "output_type": "execute_result"
    }
   ],
   "source": [
    "pos_enrichment(prev=0.04, spec=0.985, sens=0.9)"
   ]
  },
  {
   "attachments": {},
   "cell_type": "markdown",
   "metadata": {},
   "source": [
    "An immunity passports program in a city with 4% seroprevalence could work for a test with at least 98.5% specificity and 72% sensitivity"
   ]
  },
  {
   "cell_type": "code",
   "execution_count": 13,
   "metadata": {},
   "outputs": [
    {
     "data": {
      "text/plain": [
       "0.7200000000000005"
      ]
     },
     "execution_count": 13,
     "metadata": {},
     "output_type": "execute_result"
    }
   ],
   "source": [
    "min_sens(prev=0.04,spec=0.985,R0=3)"
   ]
  },
  {
   "cell_type": "markdown",
   "metadata": {},
   "source": [
    "A test of 98.5% specificity and 72% sensitivity cannot be relied on for populations with prevalence below 4% at an R0=3"
   ]
  },
  {
   "cell_type": "code",
   "execution_count": 14,
   "metadata": {},
   "outputs": [
    {
     "data": {
      "text/plain": [
       "0.6666666666666665"
      ]
     },
     "execution_count": 14,
     "metadata": {},
     "output_type": "execute_result"
    }
   ],
   "source": [
    "pos_enrichment(prev=0.04, spec=0.985, sens=0.72)"
   ]
  },
  {
   "cell_type": "markdown",
   "metadata": {},
   "source": [
    "For R0=2.5 and the same test specificity of 98.5%, the test sensitivity required to maintain herd immunity among the ‘immune passport’ carriers is only 54%, while for R0=3.5 the corresponding sensitivity requirement is 90%, and for the recent estimate of R0=5.7"
   ]
  },
  {
   "cell_type": "code",
   "execution_count": 15,
   "metadata": {},
   "outputs": [
    {
     "data": {
      "text/plain": [
       "0.5400000000000005"
      ]
     },
     "execution_count": 15,
     "metadata": {},
     "output_type": "execute_result"
    }
   ],
   "source": [
    "min_sens(prev=0.04,spec=0.985,R0=2.5)"
   ]
  },
  {
   "cell_type": "code",
   "execution_count": 16,
   "metadata": {},
   "outputs": [
    {
     "data": {
      "text/plain": [
       "0.9000000000000008"
      ]
     },
     "execution_count": 16,
     "metadata": {},
     "output_type": "execute_result"
    }
   ],
   "source": [
    "min_sens(prev=0.04,spec=0.985,R0=3.5)"
   ]
  },
  {
   "cell_type": "code",
   "execution_count": 17,
   "metadata": {},
   "outputs": [
    {
     "data": {
      "text/plain": [
       "1.6920000000000015"
      ]
     },
     "execution_count": 17,
     "metadata": {},
     "output_type": "execute_result"
    }
   ],
   "source": [
    "min_sens(prev=0.04,spec=0.985,R0=5.7)"
   ]
  },
  {
   "cell_type": "markdown",
   "metadata": {},
   "source": [
    "With a 99% specific and 100% sensitive test, a community with R0=3.5 requires at least a seroprevalence of 2.5% "
   ]
  },
  {
   "cell_type": "code",
   "execution_count": 18,
   "metadata": {},
   "outputs": [
    {
     "data": {
      "text/plain": [
       "0.02439024390243905"
      ]
     },
     "execution_count": 18,
     "metadata": {},
     "output_type": "execute_result"
    }
   ],
   "source": [
    "min_prev(sens=1,spec=0.99,R0=3.5)"
   ]
  },
  {
   "attachments": {},
   "cell_type": "markdown",
   "metadata": {},
   "source": [
    "A test with 98.5% specificity in the same community requires at least a 3.7% seroprevalence."
   ]
  },
  {
   "cell_type": "code",
   "execution_count": 19,
   "metadata": {},
   "outputs": [
    {
     "data": {
      "text/plain": [
       "0.03614457831325304"
      ]
     },
     "execution_count": 19,
     "metadata": {},
     "output_type": "execute_result"
    }
   ],
   "source": [
    "min_prev(sens=1,spec=0.985,R0=3.5)"
   ]
  },
  {
   "cell_type": "markdown",
   "metadata": {},
   "source": [
    "# Figure"
   ]
  },
  {
   "cell_type": "code",
   "execution_count": 20,
   "metadata": {},
   "outputs": [
    {
     "data": {
      "image/png": "[encoded data removed]",
      "text/plain": [
       "<Figure size 864x288 with 2 Axes>"
      ]
     },
     "metadata": {
      "needs_background": "light"
     },
     "output_type": "display_data"
    }
   ],
   "source": [
    "fig,axs = plt.subplots(nrows=1,ncols=2,figsize=(12,4))\n",
    "\n",
    "ax = axs[0]\n",
    "R0=3\n",
    "ax.set_prop_cycle('color', Prism_7.mpl_colors)\n",
    "sens = np.linspace(0.5,1.0,1000)\n",
    "for prev in [0.01,0.02,0.03,0.04,0.05,0.1,0.15]:\n",
    "    psp = np.round(sp_when_perfect_sens(prev,R0),2)\n",
    "    spec = min_spec(sens,prev,R0=R0)\n",
    "    ax.plot(sens,spec,\n",
    "            lw=2,\n",
    "           label='{}%'.format(int(prev*100)),\n",
    "        zorder=5)\n",
    "sp = 0.985\n",
    "se = min_sens(spec=sp,R0=R0,prev=0.04)\n",
    "ax.scatter(se,sp,color='black',marker='o',zorder=10)\n",
    "ax.plot([0.5,se],[sp,sp],color='black',linestyle='--',alpha=0.5,zorder=9)\n",
    "ax.plot([se,se],[0.91,sp],color='black',linestyle='--',alpha=0.5,zorder=9)\n",
    "\n",
    "\n",
    "ax.set_ylabel('minimum feasible specificity')\n",
    "ax.set_xlabel('sensitivity')\n",
    "leg = ax.legend(title='prevalence',loc='lower left',fontsize=11)\n",
    "leg.get_title().set_fontsize(12)\n",
    "ax.set_ylim([0.91,1])\n",
    "ax.set_xlim([0.5,1])\n",
    "\n",
    "ax.tick_params(direction='out')\n",
    "fontsize= 14\n",
    "labelpad = 7\n",
    "ax.tick_params(axis='both', which='major', labelsize=fontsize, pad=labelpad)\n",
    "ax.yaxis.label.set_size(fontsize)\n",
    "ax.xaxis.label.set_size(fontsize)\n",
    "\n",
    "z = ax.get_xticks()\n",
    "ax.set_xticklabels(['{}%'.format(int(x*100)) for x in z])\n",
    "z = ax.get_yticks()\n",
    "ax.set_yticklabels(['{}%'.format(int(x*100)) for x in z])\n",
    "ax.grid(alpha=0.5,zorder=0)\n",
    "plt.tight_layout()\n",
    "\n",
    "ax = axs[1]\n",
    "ax.set_prop_cycle('color', Prism_7.mpl_colors)\n",
    "ax.plot([],[])\n",
    "sens = 1\n",
    "R0 = np.linspace(2,6,100)\n",
    "for spec in [0.9,0.95,0.96,0.97,0.98,0.99]:\n",
    "    t = ax.plot(R0,min_prev(sens,spec,R0),\n",
    "            label='{}%'.format(int(100*spec)),\n",
    "            lw=2,zorder=2)\n",
    "\n",
    "\n",
    "    se = 1\n",
    "sp = 0.99\n",
    "r0 = 3.5\n",
    "theta = min_prev(se,sp,r0)    \n",
    "\n",
    "ax.scatter(r0,theta,color='black',marker='o',zorder=10)\n",
    "ax.plot([2.0,r0],[theta,theta],color='black',linestyle='--',alpha=0.5,zorder=9)\n",
    "ax.plot([r0,r0],[0,theta],color='black',linestyle='--',alpha=0.5,zorder=9)\n",
    "\n",
    "\n",
    "ax.set_ylim(bottom=0)\n",
    "xmin = np.min(R0)\n",
    "xmax = np.max(R0)\n",
    "ax.set_xlim([xmin,xmax])\n",
    "ax.set_ylabel('minimum feasible seroprevalence')\n",
    "ax.set_xlabel('$R_0$')\n",
    "ax.set_yticklabels(['{}%'.format(int(t*100)) for t in ax.get_yticks()])\n",
    "ax.grid(alpha=0.5,zorder=-1)\n",
    "leg = ax.legend(title='specificity',loc='upper left',fontsize=11)\n",
    "leg.get_title().set_fontsize(12)\n",
    "\n",
    "ax.tick_params(direction='out')\n",
    "fontsize= 14\n",
    "labelpad = 7\n",
    "ax.tick_params(axis='both', which='major', labelsize=fontsize, pad=labelpad)\n",
    "ax.yaxis.label.set_size(fontsize)\n",
    "ax.xaxis.label.set_size(fontsize)\n",
    "\n",
    "plt.tight_layout()\n",
    "# plt.savefig('figure.pdf')"
   ]
  },
  {
   "cell_type": "code",
   "execution_count": null,
   "metadata": {},
   "outputs": [],
   "source": []
  }
 ],
 "metadata": {
  "kernelspec": {
   "display_name": "Python 3",
   "language": "python",
   "name": "python3"
  },
  "language_info": {
   "codemirror_mode": {
    "name": "ipython",
    "version": 3
   },
   "file_extension": ".py",
   "mimetype": "text/x-python",
   "name": "python",
   "nbconvert_exporter": "python",
   "pygments_lexer": "ipython3",
   "version": "3.7.4"
  }
 },
 "nbformat": 4,
 "nbformat_minor": 2
}
